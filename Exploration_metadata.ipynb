{
 "cells": [
  {
   "cell_type": "code",
   "execution_count": null,
   "metadata": {},
   "outputs": [],
   "source": [
    "import numpy as np\n",
    "import pandas as pd\n",
    "import seaborn as sns\n",
    "from pandas.plotting import scatter_matrix\n",
    "import matplotlib.pyplot as plt\n",
    "import plotly.express as px\n",
    "from scipy import stats"
   ]
  },
  {
   "cell_type": "code",
   "execution_count": null,
   "metadata": {},
   "outputs": [],
   "source": [
    "x = pd.read_csv(\"METADATA.csv\")\n",
    "x.head()"
   ]
  },
  {
   "cell_type": "markdown",
   "metadata": {},
   "source": [
    "## A. Analyse descriptive"
   ]
  },
  {
   "cell_type": "code",
   "execution_count": null,
   "metadata": {},
   "outputs": [],
   "source": [
    "x.describe()"
   ]
  },
  {
   "cell_type": "code",
   "execution_count": null,
   "metadata": {},
   "outputs": [],
   "source": [
    "x['batch']=pd.Categorical(x['batch'],ordered=False)"
   ]
  },
  {
   "cell_type": "markdown",
   "metadata": {},
   "source": [
    "### Commentaire :\n",
    "\n",
    "* Transformation de la variable batch en variable qualitative."
   ]
  },
  {
   "cell_type": "code",
   "execution_count": null,
   "metadata": {},
   "outputs": [],
   "source": [
    "x.drop(['lat0','lon0','last_lon','last_lat'],axis = 1).hist(figsize=(14,14));"
   ]
  },
  {
   "cell_type": "markdown",
   "metadata": {},
   "source": [
    "### Commentaires :\n",
    "\n",
    "* La plupart des tortues pèsent entre 0 et 12 kg.\n",
    "\n",
    "* Pour la taille, entre 10 et 40 cm\n",
    "\n",
    "* Pour la durée de suivi, entre 0 et 500 jours.\n",
    "\n",
    "* Distribution plus ou moins uniforme sur la distance totale parcourue. Etant donné que la durée de suivi varie, les distances sont plus ou moins longues.\n",
    "\n",
    "* Distance moyenne journalière entre 15 et 30 km."
   ]
  },
  {
   "cell_type": "markdown",
   "metadata": {},
   "source": [
    "## B. Analyse multidimensionnelle"
   ]
  },
  {
   "cell_type": "markdown",
   "metadata": {},
   "source": [
    "### Corrélation"
   ]
  },
  {
   "cell_type": "code",
   "execution_count": null,
   "metadata": {},
   "outputs": [],
   "source": [
    "scatter_matrix(x.drop(['lat0', 'lon0', 'last_lon', 'last_lat'], axis=1), \n",
    "               figsize=(12, 12));"
   ]
  },
  {
   "cell_type": "code",
   "execution_count": null,
   "metadata": {},
   "outputs": [],
   "source": [
    "plt.figure(figsize=(12,8))\n",
    "corrMatrix = x.drop(['lat0', 'lon0', 'last_lon', 'last_lat'], axis=1).corr()\n",
    "sns.heatmap(corrMatrix, cmap=\"vlag\", vmin=-1, vmax=1);"
   ]
  },
  {
   "cell_type": "markdown",
   "metadata": {},
   "source": [
    "#### Commentaires :\n",
    "\n",
    "* Les variables de taille, poids et age des tortues sont fortement corrélés positivement : indice de corrélation proche de 1, corrélation linéaire.\n",
    "* Des tortues d'une catégorie de taille spécifique gardent leurs capteurs beaucoup plus longtemps que d'autres.\n",
    "* On ne peut rien dire des autres variables car l'indice de corrélation est trop faible, entre 0.25 et -0.25."
   ]
  },
  {
   "cell_type": "markdown",
   "metadata": {},
   "source": [
    "### Dispersion Taille et Statuts"
   ]
  },
  {
   "cell_type": "code",
   "execution_count": null,
   "metadata": {},
   "outputs": [],
   "source": [
    "x['capture_status'].unique()"
   ]
  },
  {
   "cell_type": "code",
   "execution_count": null,
   "metadata": {},
   "outputs": [],
   "source": [
    "print('Nb d\\'individus avec Pound Net en capture status : ',\n",
    "      len(x[x['capture_status']=='Pound Net']))"
   ]
  },
  {
   "cell_type": "code",
   "execution_count": null,
   "metadata": {},
   "outputs": [],
   "source": [
    "# Fusion variables Batch et Capture - suppression label Pound Net en Light\n",
    "f = lambda a : (a,'Light')[a == 'Pound Net']\n",
    "x['capture_status'] = x['capture_status'].apply(f)"
   ]
  },
  {
   "cell_type": "code",
   "execution_count": null,
   "metadata": {},
   "outputs": [],
   "source": [
    "x['capture_status'].unique()"
   ]
  },
  {
   "cell_type": "code",
   "execution_count": null,
   "metadata": {},
   "outputs": [],
   "source": [
    "fig = px.box(x , y=\"SCL_cm\", color=\"capture_status\",width=700, height=350)\n",
    "fig.show()"
   ]
  },
  {
   "cell_type": "markdown",
   "metadata": {},
   "source": [
    "#### Commentaires\n",
    "\n",
    "* Les tortues élevées en aquarium sont relachées en mer avec une taille beaucoup plus faible que celle repechées accidentellement en mer. \n",
    "\n",
    "* Piste : regarder vitesse de nage des aquariums VS capturées : on s'attend à ce que les tortues repechées parcourent plus de distance que celles élevées en aquarium, car elles sont plus grosses en taille."
   ]
  },
  {
   "cell_type": "code",
   "execution_count": null,
   "metadata": {},
   "outputs": [],
   "source": [
    "fig = px.box(x , y=\"daily_mean_distance (km)\", color=\"capture_status\",width=700, height=350)\n",
    "fig.show()"
   ]
  },
  {
   "cell_type": "markdown",
   "metadata": {},
   "source": [
    "#### Commentaires\n",
    "\n",
    "* Contrairement à nos attentes, les médianes sont équivalentes quelque soit le mode de capture. \n",
    "\n",
    "* On remarque plus d'outliers sur les tortues elevées en aquarium.\n",
    "\n",
    "* **Les variables daily_mean_distance & SCL ne sont pas correlées !!!**\n",
    "\n",
    "\n",
    "Transformation en log de daily_mean et longevity ?"
   ]
  },
  {
   "cell_type": "markdown",
   "metadata": {},
   "source": [
    "### Dispersion mois et distance"
   ]
  },
  {
   "cell_type": "code",
   "execution_count": null,
   "metadata": {},
   "outputs": [],
   "source": [
    "def month_extract(x):\n",
    "    sep1 = x.split('/')[0]\n",
    "    sep = int(sep1)\n",
    "    if sep==1: return 'janvier'\n",
    "    elif sep==2: return 'fevrier'\n",
    "    elif sep==3: return 'mars'\n",
    "    elif sep==4: return 'avril'\n",
    "    elif sep==5: return 'mai'\n",
    "    elif sep==6: return 'juin'\n",
    "    elif sep==7: return 'juillet'\n",
    "    elif sep==8: return 'aout'\n",
    "    elif sep==9: return 'septembre'\n",
    "    elif sep==10: return 'octobre'\n",
    "    elif sep==11: return 'novembre'\n",
    "    elif sep==12: return 'decembre'\n",
    "\n",
    "x['month'] = x['release'].apply(month_extract)\n",
    "\n",
    "x['month'] = pd.Categorical(x['month'])"
   ]
  },
  {
   "cell_type": "code",
   "execution_count": null,
   "metadata": {},
   "outputs": [],
   "source": [
    "fig = px.box(x, y=\"daily_mean_distance (km)\", color=\"month\",width=800, height=350,\n",
    "             category_orders={'month': ['janvier','fevrier','mars','avril',\n",
    "                                        'mai', 'juin', 'juillet', 'aout',\n",
    "                                        'septembre', 'octobre', 'novembre',\n",
    "                                        'decembre']})\n",
    "fig.show()"
   ]
  },
  {
   "cell_type": "code",
   "execution_count": null,
   "metadata": {},
   "outputs": [],
   "source": [
    "from collections import Counter\n",
    "count = Counter(x['month']).most_common()\n",
    "month_count = pd.DataFrame([list(m) for m in count], columns=['month', 'count'])\n",
    "px.bar(month_count, x='month', y='count', title='Nombre de tortues lachées par mois')"
   ]
  },
  {
   "cell_type": "markdown",
   "metadata": {},
   "source": [
    "#### Commentaires :\n",
    "\n",
    "* Les tortues relachées aux mois d'avril et novembre parcourent de plus grandes distances.\n",
    "\n",
    "* Le diagramme en batons ci dessus indique que les mois d'avril, mai, juillet, octobre et novembre sont les plus représentatifs du dataset.\n",
    "\n",
    "* Piste : regrouper les tortues par saison et par batch."
   ]
  },
  {
   "cell_type": "markdown",
   "metadata": {},
   "source": [
    "### Saison et batch"
   ]
  },
  {
   "cell_type": "code",
   "execution_count": null,
   "metadata": {},
   "outputs": [],
   "source": [
    "def season_var(x):\n",
    "    if x=='janvier' or x=='fevrier' or x=='mars':\n",
    "        return 'winter'\n",
    "    elif x=='avril' or x=='mai' or x=='juin' :\n",
    "        return 'spring'\n",
    "    elif x=='juillet' or x=='aout' or x=='septembre' :\n",
    "        return 'summer'\n",
    "    else: \n",
    "        return 'autumn'\n",
    "    \n",
    "x['season'] = x['month'].apply(season_var)\n",
    "x['season'] = pd.Categorical(x['season'])"
   ]
  },
  {
   "cell_type": "code",
   "execution_count": null,
   "metadata": {},
   "outputs": [],
   "source": [
    "fig = px.box(x , y=\"daily_mean_distance (km)\", color=\"season\",width=800, height=350)\n",
    "fig.show()"
   ]
  },
  {
   "cell_type": "markdown",
   "metadata": {},
   "source": [
    "#### Commentaire :\n",
    "\n",
    "* La variable saison ne nous permet pas d'analyser la distance parcourue par jour, nous allons nous concenter sur le batch et la longitude."
   ]
  },
  {
   "cell_type": "markdown",
   "metadata": {},
   "source": [
    "### Distance et batch"
   ]
  },
  {
   "cell_type": "code",
   "execution_count": null,
   "metadata": {},
   "outputs": [],
   "source": [
    "fig = px.box(x, y=\"daily_mean_distance (km)\", \n",
    "             color=\"batch\",width=800, height=350)\n",
    "fig.show()"
   ]
  },
  {
   "cell_type": "markdown",
   "metadata": {},
   "source": [
    "#### Commentaires :\n",
    "\n",
    "* Il existe une corrélation entre le batch et la distance parcourue en moyenne par jour.\n",
    "\n",
    "* Batch 2, 3, 4, 5 VS le reste. \n",
    "\n",
    "* Piste : examiner la corrélation entre le batch et le mois de relache."
   ]
  },
  {
   "cell_type": "code",
   "execution_count": null,
   "metadata": {},
   "outputs": [],
   "source": [
    "mean_vitesse = x[x['batch']!=1]['daily_mean_distance (km)'].mean()\n",
    "x['month'] = x['month'].astype(str)\n",
    "fig = px.scatter(x[x['batch']!=1], x = 'batch',y = 'daily_mean_distance (km)',\n",
    "                 color = 'month', title='Distance moyenne parcourue en fonction '+\n",
    "                 'du mois de laché et du batch')\n",
    "fig.update_layout(shapes=[\n",
    "    dict(\n",
    "      type= 'line',\n",
    "      xref= 'paper', x0= 0, x1= 1,\n",
    "      yref= 'y', y0= mean_vitesse, y1= mean_vitesse,\n",
    "    )\n",
    "])"
   ]
  },
  {
   "cell_type": "markdown",
   "metadata": {},
   "source": [
    "#### Commentaires :\n",
    "\n",
    "* Toutes les tortues captives sont relachées à partir du mois d'avril.\n",
    "\n",
    "* Les tortues lachées en novembre (rouge) et avril (bleu marine) ont tendance à parcourir une distance supérieure à la moyenne par jour (cf droite noire). Cela correspond aux batch 2, 3, 4, 5. \n",
    "\n",
    "* C'est donc cohérent avec nos analyses précedentes. \n",
    "\n",
    "\n",
    "Piste : examiner le lien entre le courant et le mois de laché. (A VOIR DANS NOTEBOOK AVEC TOUTES LES TORTUES)\n",
    "\n",
    "Lien entre longitude et batch ?"
   ]
  },
  {
   "cell_type": "markdown",
   "metadata": {},
   "source": [
    "#### Correlation batch & longitude"
   ]
  },
  {
   "cell_type": "code",
   "execution_count": null,
   "metadata": {},
   "outputs": [],
   "source": [
    "def eta_squared(x,y):\n",
    "    moyenne_y = y.mean()\n",
    "    classes = []\n",
    "    for classe in x.unique():\n",
    "        yi_classe = y[x==classe]\n",
    "        classes.append({'ni': len(yi_classe),\n",
    "                        'moyenne_classe': yi_classe.mean()})\n",
    "    SCT = sum([(yj-moyenne_y)**2 for yj in y])\n",
    "    SCE = sum([c['ni']*(c['moyenne_classe']-moyenne_y)**2 for c in classes])\n",
    "    return SCE/SCT\n",
    "    \n",
    "eta_squared(x['batch'],x['lon0'])"
   ]
  },
  {
   "cell_type": "markdown",
   "metadata": {},
   "source": [
    "#### Commentaires : \n",
    "\n",
    "* eta_squared = (variance interclasse) / (variance totale)\n",
    "\n",
    "* Proche de 1 donc corrélation élevée entre la longitude et le batch."
   ]
  },
  {
   "cell_type": "code",
   "execution_count": null,
   "metadata": {},
   "outputs": [],
   "source": [
    "x0 = x[x['lon0']>0]\n",
    "px.scatter(x0[x0['batch']!=1], x = 'lon0', y = 'daily_mean_distance (km)', \n",
    "           color = 'batch')"
   ]
  },
  {
   "cell_type": "markdown",
   "metadata": {},
   "source": [
    "#### Commentaires :\n",
    "\n",
    "* 1) Corrélation entre la longitude et le batch marquée importante. Des tortues de meme batch ont des longitudes de lachés similaires. (cf couleurs & longitude).\n",
    "\n",
    "\n",
    "* 2) On observe que sur certaine longitude, la distance parcourue est plus ou moins grande (cf 140 VS 177). \n",
    "On suppose donc que la distance parcourue est influencée par la longitude.\n",
    "\n",
    "Attention car l'échelle des longitudes est petite cependant dans la réalité les distances sont très grandes ...\n",
    "\n",
    "* Dernier point : les batch 6 et 7 sont beaucoup plus lents ; cela confirme les hypothèses de la section précédente."
   ]
  },
  {
   "cell_type": "markdown",
   "metadata": {},
   "source": [
    "### Dispersion Taille & Poids"
   ]
  },
  {
   "cell_type": "code",
   "execution_count": null,
   "metadata": {},
   "outputs": [],
   "source": [
    "fig = px.box(x , y=\"SCL_cm\",width=300, height=500)\n",
    "fig.show()"
   ]
  },
  {
   "cell_type": "code",
   "execution_count": null,
   "metadata": {},
   "outputs": [],
   "source": [
    "fig = px.box(x , y=\"wt_kg\", width=300, height=500)\n",
    "fig.show()"
   ]
  },
  {
   "cell_type": "code",
   "execution_count": null,
   "metadata": {},
   "outputs": [],
   "source": [
    "print('Pourcentage de tortues capturées accidentellement :', \n",
    "      (len(x.loc[x['capture_status']=='Deep']) + \n",
    "       len(x.loc[x['capture_status']=='Light'])) / len(x) * 100)"
   ]
  },
  {
   "cell_type": "markdown",
   "metadata": {},
   "source": [
    "#### Commentaires  :\n",
    "\n",
    "* Bcp d'outliers pour la taille : correspond aux tortues capturées car elles sont plus grosses que la moyenne et ces dernières représentent seulement 15% de la population.\n",
    "\n",
    "* Etant donné que la taille et le poids sont corrélées positivement, on devrait retrouver autant d'outlier pour le poids. Or nous n'avons pas le poids des tortues capturés, d'où le fait qu'il y ait bcp moins d'outliers pour le boxplot du poids."
   ]
  },
  {
   "cell_type": "code",
   "execution_count": null,
   "metadata": {},
   "outputs": [],
   "source": [
    "# garder variable taille\n",
    "# Modelisation composantes u et v ou normes et directions ? "
   ]
  }
 ],
 "metadata": {
  "kernelspec": {
   "display_name": "Python 3",
   "language": "python",
   "name": "python3"
  },
  "language_info": {
   "codemirror_mode": {
    "name": "ipython",
    "version": 3
   },
   "file_extension": ".py",
   "mimetype": "text/x-python",
   "name": "python",
   "nbconvert_exporter": "python",
   "pygments_lexer": "ipython3",
   "version": "3.7.9"
  }
 },
 "nbformat": 4,
 "nbformat_minor": 2
}
